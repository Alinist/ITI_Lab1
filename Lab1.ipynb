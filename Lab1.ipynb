{
 "cells": [
  {
   "cell_type": "code",
   "execution_count": 1,
   "id": "649bae1d",
   "metadata": {},
   "outputs": [
    {
     "name": "stdout",
     "output_type": "stream",
     "text": [
      "Number of vowels: 2\n"
     ]
    }
   ],
   "source": [
    "def count_vowels(s):\n",
    "    vowels = 'aeiouAEIOU'\n",
    "    count = 0\n",
    "    for char in s:\n",
    "        if char in vowels:\n",
    "            count += 1\n",
    "    return count\n",
    "\n",
    "string = input(\"Enter a string: \")\n",
    "print(\"Number of vowels:\", count_vowels(string))"
   ]
  },
  {
   "cell_type": "code",
   "execution_count": 2,
   "id": "73272b56",
   "metadata": {},
   "outputs": [
    {
     "name": "stdout",
     "output_type": "stream",
     "text": [
      "Ascending order: [-13, 0, 9, 9, 12]\n",
      "Descending order: [12, 9, 9, 0, -13]\n"
     ]
    }
   ],
   "source": [
    "arr = []\n",
    "for i in range(5):\n",
    "    num = int(input(f\"Enter number {i+1}: \"))\n",
    "    arr.append(num)\n",
    "\n",
    "asc = sorted(arr)\n",
    "desc = sorted(arr, reverse=True)\n",
    "\n",
    "print(\"Ascending order:\", asc)\n",
    "print(\"Descending order:\", desc)"
   ]
  },
  {
   "cell_type": "code",
   "execution_count": 3,
   "id": "a36ede6f",
   "metadata": {},
   "outputs": [
    {
     "name": "stdout",
     "output_type": "stream",
     "text": [
      "Occurrences of 'iti': 0\n"
     ]
    }
   ],
   "source": [
    "def count_iti_occurrences(s):\n",
    "    return s.lower().count('iti')\n",
    "\n",
    "text = input(\"Enter any string: \")\n",
    "print(\"Occurrences of 'iti':\", count_iti_occurrences(text))"
   ]
  },
  {
   "cell_type": "code",
   "execution_count": 4,
   "id": "5d9f5014",
   "metadata": {},
   "outputs": [
    {
     "name": "stdout",
     "output_type": "stream",
     "text": [
      "Brief version without vowels: Tsnm\n"
     ]
    }
   ],
   "source": [
    "def remove_vowels(s):\n",
    "    vowels = 'aeiouAEIOU'\n",
    "    result = ''\n",
    "    for char in s:\n",
    "        if char not in vowels:\n",
    "            result += char\n",
    "    return result\n",
    "\n",
    "print(\"Brief version without vowels:\", remove_vowels(input(\"Enter a word: \")))"
   ]
  },
  {
   "cell_type": "code",
   "execution_count": 5,
   "id": "e8a902fd",
   "metadata": {},
   "outputs": [
    {
     "name": "stdout",
     "output_type": "stream",
     "text": [
      "0\n",
      "1\n",
      "3\n"
     ]
    }
   ],
   "source": [
    "def find_char_positions(string):\n",
    "    for i, char in enumerate(string):\n",
    "        if char == 'i':\n",
    "            print(i)\n",
    "\n",
    "input_string = input(\"Enter a string: \")\n",
    "find_char_positions(input_string)"
   ]
  },
  {
   "cell_type": "code",
   "execution_count": 6,
   "id": "36754e4c",
   "metadata": {},
   "outputs": [
    {
     "name": "stdout",
     "output_type": "stream",
     "text": [
      "[[1], [2, 4], [3, 6, 9], [4, 8, 12, 16], [5, 10, 15, 20, 25]]\n"
     ]
    }
   ],
   "source": [
    "def multiplication_table(n):\n",
    "    table = []\n",
    "    for i in range(1, n + 1):\n",
    "        row = []\n",
    "        for j in range(1, i + 1):\n",
    "            row.append(i * j)\n",
    "        table.append(row)\n",
    "    return table\n",
    "\n",
    "print(multiplication_table(int(input(\"Enter a number: \"))))"
   ]
  },
  {
   "cell_type": "code",
   "execution_count": 7,
   "id": "51edca22",
   "metadata": {},
   "outputs": [
    {
     "name": "stdout",
     "output_type": "stream",
     "text": [
      "         *\n",
      "        **\n",
      "       ***\n",
      "      ****\n",
      "     *****\n",
      "    ******\n",
      "   *******\n",
      "  ********\n",
      " *********\n"
     ]
    }
   ],
   "source": [
    "def mario_pyramid(n):\n",
    "    for i in range(1, n + 1):\n",
    "        print(\" \" * (n+1-i) + \"*\" * i)\n",
    "\n",
    "num = int(input(\"Enter a number: \"))\n",
    "mario_pyramid(num)"
   ]
  }
 ],
 "metadata": {
  "kernelspec": {
   "display_name": "Python (steam-ml-env)",
   "language": "python",
   "name": "steam-ml-env"
  },
  "language_info": {
   "codemirror_mode": {
    "name": "ipython",
    "version": 3
   },
   "file_extension": ".py",
   "mimetype": "text/x-python",
   "name": "python",
   "nbconvert_exporter": "python",
   "pygments_lexer": "ipython3",
   "version": "3.12.2"
  }
 },
 "nbformat": 4,
 "nbformat_minor": 5
}
